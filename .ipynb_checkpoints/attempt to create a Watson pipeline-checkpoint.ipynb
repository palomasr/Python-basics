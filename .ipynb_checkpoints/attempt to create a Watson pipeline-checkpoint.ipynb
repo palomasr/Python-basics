{
 "cells": [
  {
   "cell_type": "code",
   "execution_count": 1,
   "id": "6f6dc6f7",
   "metadata": {},
   "outputs": [],
   "source": [
    "import os\n",
    "import pandas as pd\n",
    "import pickle"
   ]
  },
  {
   "cell_type": "code",
   "execution_count": 2,
   "id": "cbfc6cf6",
   "metadata": {},
   "outputs": [],
   "source": [
    "df = pd.read_csv('/Users/palomaribeiro/Documents/bank-marketing-data.csv')\n",
    "df['duration_double'] = df['duration'] * 2\n",
    "\n",
    "\n",
    "df['duration'] = df['age'] + df['duration_double']\n",
    "\n",
    "\n",
    "output_file = '/Users/palomaribeiro/Documents/bank-marketing-data.pkl'\n",
    "with open(output_file, 'wb') as f:\n",
    "    pickle.dump(df, f)"
   ]
  },
  {
   "cell_type": "code",
   "execution_count": null,
   "id": "c98dc76e",
   "metadata": {},
   "outputs": [],
   "source": []
  }
 ],
 "metadata": {
  "kernelspec": {
   "display_name": "Python 3 (ipykernel)",
   "language": "python",
   "name": "python3"
  },
  "language_info": {
   "codemirror_mode": {
    "name": "ipython",
    "version": 3
   },
   "file_extension": ".py",
   "mimetype": "text/x-python",
   "name": "python",
   "nbconvert_exporter": "python",
   "pygments_lexer": "ipython3",
   "version": "3.10.9"
  }
 },
 "nbformat": 4,
 "nbformat_minor": 5
}

{
 "cells": [
  {
   "cell_type": "code",
   "execution_count": 1,
   "id": "8355e20c",
   "metadata": {},
   "outputs": [],
   "source": [
    "myFirstList = [37, 55, 89, 44, 23]"
   ]
  },
  {
   "cell_type": "code",
   "execution_count": 2,
   "id": "73546bb5",
   "metadata": {},
   "outputs": [
    {
     "data": {
      "text/plain": [
       "[37, 55, 89, 44, 23]"
      ]
     },
     "execution_count": 2,
     "metadata": {},
     "output_type": "execute_result"
    }
   ],
   "source": [
    "myFirstList"
   ]
  },
  {
   "cell_type": "code",
   "execution_count": 3,
   "id": "ee62a097",
   "metadata": {},
   "outputs": [
    {
     "data": {
      "text/plain": [
       "list"
      ]
     },
     "execution_count": 3,
     "metadata": {},
     "output_type": "execute_result"
    }
   ],
   "source": [
    "type(myFirstList)"
   ]
  },
  {
   "cell_type": "code",
   "execution_count": 5,
   "id": "268c44c6",
   "metadata": {},
   "outputs": [
    {
     "data": {
      "text/plain": [
       "['hi', 23, True, 'Paloma', 2345]"
      ]
     },
     "execution_count": 5,
     "metadata": {},
     "output_type": "execute_result"
    }
   ],
   "source": [
    "l2 = ['hi', 23, True, 'Paloma', 2345]\n",
    "l2\n",
    "\n",
    "#lists can have all types of data and even another list"
   ]
  },
  {
   "cell_type": "code",
   "execution_count": 6,
   "id": "666ebae8",
   "metadata": {},
   "outputs": [
    {
     "data": {
      "text/plain": [
       "range(0, 15)"
      ]
     },
     "execution_count": 6,
     "metadata": {},
     "output_type": "execute_result"
    }
   ],
   "source": [
    "#differences using range function\n",
    "#it includes numbers until the number specified, if you want the last number to be inclused you'll need to put 16 for ex\n",
    "\n",
    "range(15)"
   ]
  },
  {
   "cell_type": "code",
   "execution_count": 7,
   "id": "1befc4b3",
   "metadata": {},
   "outputs": [
    {
     "data": {
      "text/plain": [
       "[0, 1, 2, 3, 4, 5, 6, 7, 8, 9, 10, 11, 12, 13, 14]"
      ]
     },
     "execution_count": 7,
     "metadata": {},
     "output_type": "execute_result"
    }
   ],
   "source": [
    "#using this you'll save in memmory the whole list and with the range function only, you won't be saving in memmory\n",
    "list(range(15))"
   ]
  },
  {
   "cell_type": "code",
   "execution_count": 11,
   "id": "3c103436",
   "metadata": {},
   "outputs": [
    {
     "data": {
      "text/plain": [
       "[1, 2, 3, 4, 5, 6, 7, 8, 9, 10, 11, 12, 13, 14, 15, 16, 17, 18, 19, 20]"
      ]
     },
     "execution_count": 11,
     "metadata": {},
     "output_type": "execute_result"
    }
   ],
   "source": [
    "#range can have other parameters, you can set where do you want it to start\n",
    "#here we set it to start at 1\n",
    "z = list(range(1,21))\n",
    "z"
   ]
  },
  {
   "cell_type": "code",
   "execution_count": 14,
   "id": "cd294b52",
   "metadata": {},
   "outputs": [
    {
     "data": {
      "text/plain": [
       "[100, 102, 104, 106, 108, 110, 112, 114, 116, 118]"
      ]
     },
     "execution_count": 14,
     "metadata": {},
     "output_type": "execute_result"
    }
   ],
   "source": [
    "#we can add a third parameter,that works like a step going 10 to 10, 2 to 2 inside de list\n",
    "\n",
    "z2 = list(range(100,120,2))\n",
    "z2"
   ]
  },
  {
   "cell_type": "code",
   "execution_count": 15,
   "id": "f064f87a",
   "metadata": {},
   "outputs": [],
   "source": [
    "w = ['a', 'b', 'c', 'd', 'e']"
   ]
  },
  {
   "cell_type": "code",
   "execution_count": 16,
   "id": "dd0cdbf3",
   "metadata": {},
   "outputs": [
    {
     "data": {
      "text/plain": [
       "['a', 'b', 'c', 'd', 'e']"
      ]
     },
     "execution_count": 16,
     "metadata": {},
     "output_type": "execute_result"
    }
   ],
   "source": [
    "w"
   ]
  },
  {
   "cell_type": "code",
   "execution_count": 18,
   "id": "7334779a",
   "metadata": {},
   "outputs": [
    {
     "data": {
      "text/plain": [
       "'a'"
      ]
     },
     "execution_count": 18,
     "metadata": {},
     "output_type": "execute_result"
    }
   ],
   "source": [
    "#we can access an element inside de list by using its index (starts at 0)\n",
    "\n",
    "w[0]"
   ]
  },
  {
   "cell_type": "code",
   "execution_count": 21,
   "id": "9fb10032",
   "metadata": {},
   "outputs": [
    {
     "data": {
      "text/plain": [
       "'d'"
      ]
     },
     "execution_count": 21,
     "metadata": {},
     "output_type": "execute_result"
    }
   ],
   "source": [
    "#you can also use a negative scale\n",
    "# 0  1  3  4  5\n",
    "#-5 -4 -3 -2 -1\n",
    "\n",
    "w[-2]"
   ]
  },
  {
   "cell_type": "code",
   "execution_count": 19,
   "id": "870af374",
   "metadata": {},
   "outputs": [
    {
     "data": {
      "text/plain": [
       "5"
      ]
     },
     "execution_count": 19,
     "metadata": {},
     "output_type": "execute_result"
    }
   ],
   "source": [
    "#we can know how long is the list\n",
    "\n",
    "len(w)"
   ]
  },
  {
   "cell_type": "code",
   "execution_count": 23,
   "id": "43ee57d5",
   "metadata": {},
   "outputs": [],
   "source": [
    "#you can replace elements\n",
    "w[3] = 33"
   ]
  },
  {
   "cell_type": "code",
   "execution_count": 24,
   "id": "61f8e85d",
   "metadata": {},
   "outputs": [
    {
     "data": {
      "text/plain": [
       "['a', 'b', 'c', 33, 'e']"
      ]
     },
     "execution_count": 24,
     "metadata": {},
     "output_type": "execute_result"
    }
   ],
   "source": [
    "w"
   ]
  },
  {
   "cell_type": "code",
   "execution_count": 26,
   "id": "96167c07",
   "metadata": {},
   "outputs": [],
   "source": [
    "#tried to add elements to the list using append\n",
    "w.append(5)"
   ]
  },
  {
   "cell_type": "code",
   "execution_count": 27,
   "id": "e918769a",
   "metadata": {},
   "outputs": [
    {
     "data": {
      "text/plain": [
       "['a', 'b', 'c', 33, 'e', 5]"
      ]
     },
     "execution_count": 27,
     "metadata": {},
     "output_type": "execute_result"
    }
   ],
   "source": [
    "w"
   ]
  },
  {
   "cell_type": "markdown",
   "id": "27ef9014",
   "metadata": {},
   "source": [
    "---"
   ]
  },
  {
   "cell_type": "code",
   "execution_count": 28,
   "id": "269aedc0",
   "metadata": {},
   "outputs": [],
   "source": [
    "#slicing\n",
    "#similar understending of the range function\n",
    "# we use : to slice, it creates a subset of the list\n",
    "# on one side of the : we put the index that we want the subset to start and on the other side\n",
    "# and on the other side we put the index that ends the subset (always remembering that the index is not inlcuded on the slice)\n",
    "# it can also be used with 2 : on the third space you can enter the step"
   ]
  },
  {
   "cell_type": "code",
   "execution_count": 29,
   "id": "3fac9c57",
   "metadata": {},
   "outputs": [],
   "source": [
    "letters = ['A', 'B', 'C', 'D', 'F', 'G', 'H', 'I', 'J']"
   ]
  },
  {
   "cell_type": "code",
   "execution_count": 30,
   "id": "5e6c5bdc",
   "metadata": {},
   "outputs": [
    {
     "data": {
      "text/plain": [
       "['A', 'B', 'C', 'D', 'F', 'G', 'H', 'I', 'J']"
      ]
     },
     "execution_count": 30,
     "metadata": {},
     "output_type": "execute_result"
    }
   ],
   "source": [
    "letters"
   ]
  },
  {
   "cell_type": "code",
   "execution_count": 31,
   "id": "45493e2b",
   "metadata": {},
   "outputs": [
    {
     "data": {
      "text/plain": [
       "['A', 'B', 'C', 'D', 'F', 'G', 'H', 'I', 'J']"
      ]
     },
     "execution_count": 31,
     "metadata": {},
     "output_type": "execute_result"
    }
   ],
   "source": [
    "letters[:]"
   ]
  },
  {
   "cell_type": "code",
   "execution_count": 33,
   "id": "b006e994",
   "metadata": {},
   "outputs": [
    {
     "data": {
      "text/plain": [
       "['A', 'B', 'C', 'D', 'F', 'G']"
      ]
     },
     "execution_count": 33,
     "metadata": {},
     "output_type": "execute_result"
    }
   ],
   "source": [
    "letters[:6]"
   ]
  },
  {
   "cell_type": "code",
   "execution_count": 34,
   "id": "1be85fd6",
   "metadata": {},
   "outputs": [
    {
     "data": {
      "text/plain": [
       "['D', 'F', 'G', 'H', 'I']"
      ]
     },
     "execution_count": 34,
     "metadata": {},
     "output_type": "execute_result"
    }
   ],
   "source": [
    "letters[3:-1]"
   ]
  },
  {
   "cell_type": "code",
   "execution_count": 35,
   "id": "c455ac1f",
   "metadata": {},
   "outputs": [
    {
     "data": {
      "text/plain": [
       "['C', 'D', 'F']"
      ]
     },
     "execution_count": 35,
     "metadata": {},
     "output_type": "execute_result"
    }
   ],
   "source": [
    "letters[2 : 5]"
   ]
  },
  {
   "cell_type": "code",
   "execution_count": 38,
   "id": "cf2ab811",
   "metadata": {},
   "outputs": [
    {
     "data": {
      "text/plain": [
       "['A', 'C', 'F']"
      ]
     },
     "execution_count": 38,
     "metadata": {},
     "output_type": "execute_result"
    }
   ],
   "source": [
    "#advanced slicing\n",
    "letters[0 : 5 : 2]"
   ]
  },
  {
   "cell_type": "code",
   "execution_count": 39,
   "id": "d967ff43",
   "metadata": {},
   "outputs": [
    {
     "data": {
      "text/plain": [
       "['B', 'F']"
      ]
     },
     "execution_count": 39,
     "metadata": {},
     "output_type": "execute_result"
    }
   ],
   "source": [
    "letters[1:7:3]"
   ]
  },
  {
   "cell_type": "code",
   "execution_count": 40,
   "id": "b27c0dc3",
   "metadata": {},
   "outputs": [
    {
     "data": {
      "text/plain": [
       "['H', 'F', 'C']"
      ]
     },
     "execution_count": 40,
     "metadata": {},
     "output_type": "execute_result"
    }
   ],
   "source": [
    "#negative step on slicing only works if we invert \n",
    "\n",
    "letters[6:0:-2]"
   ]
  },
  {
   "cell_type": "markdown",
   "id": "855b295e",
   "metadata": {},
   "source": [
    "----"
   ]
  },
  {
   "cell_type": "code",
   "execution_count": 41,
   "id": "b18be841",
   "metadata": {},
   "outputs": [
    {
     "data": {
      "text/plain": [
       "(1, 3, 5, 7, 9)"
      ]
     },
     "execution_count": 41,
     "metadata": {},
     "output_type": "execute_result"
    }
   ],
   "source": [
    "#tuples = immutable list\n",
    "\n",
    "t1 = (1, 3, 5, 7 ,9)\n",
    "t1"
   ]
  },
  {
   "cell_type": "code",
   "execution_count": null,
   "id": "65aa8e84",
   "metadata": {},
   "outputs": [],
   "source": []
  }
 ],
 "metadata": {
  "kernelspec": {
   "display_name": "Python 3 (ipykernel)",
   "language": "python",
   "name": "python3"
  },
  "language_info": {
   "codemirror_mode": {
    "name": "ipython",
    "version": 3
   },
   "file_extension": ".py",
   "mimetype": "text/x-python",
   "name": "python",
   "nbconvert_exporter": "python",
   "pygments_lexer": "ipython3",
   "version": "3.10.9"
  }
 },
 "nbformat": 4,
 "nbformat_minor": 5
}

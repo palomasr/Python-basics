{
 "cells": [
  {
   "cell_type": "code",
   "execution_count": null,
   "id": "2efb5528",
   "metadata": {},
   "outputs": [],
   "source": [
    "#structure\n",
    "while condition:\n",
    "    executable code1\n",
    "    executable code2\n",
    "    executable code3\n",
    "    \n",
    "executable code #note that there's no curly braces what so ever, so indentation is fundamental to pyhton. \n",
    "#for ex this line is out of the while loop because of its indentation"
   ]
  },
  {
   "cell_type": "code",
   "execution_count": null,
   "id": "361299a9",
   "metadata": {},
   "outputs": [],
   "source": [
    "while false:\n",
    "    print('hello')\n",
    "#it wont show anything because is already being set to false"
   ]
  },
  {
   "cell_type": "code",
   "execution_count": null,
   "id": "cbf8f5ba",
   "metadata": {},
   "outputs": [],
   "source": [
    "counter = 0\n",
    "while counter < 12:\n",
    "    print(counter)\n",
    "    counter = counter + 1"
   ]
  }
 ],
 "metadata": {
  "kernelspec": {
   "display_name": "Python 3 (ipykernel)",
   "language": "python",
   "name": "python3"
  },
  "language_info": {
   "codemirror_mode": {
    "name": "ipython",
    "version": 3
   },
   "file_extension": ".py",
   "mimetype": "text/x-python",
   "name": "python",
   "nbconvert_exporter": "python",
   "pygments_lexer": "ipython3",
   "version": "3.10.9"
  }
 },
 "nbformat": 4,
 "nbformat_minor": 5
}

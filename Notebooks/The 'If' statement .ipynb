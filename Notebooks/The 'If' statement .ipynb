{
 "cells": [
  {
   "cell_type": "code",
   "execution_count": 1,
   "id": "92e41ed0",
   "metadata": {},
   "outputs": [],
   "source": [
    "#--- -2 --- -1 --- 0 --- 1 --- 2"
   ]
  },
  {
   "cell_type": "code",
   "execution_count": 2,
   "id": "6b3c40db",
   "metadata": {},
   "outputs": [],
   "source": [
    "#need to import libs\n",
    "import numpy as np\n",
    "from numpy.random import randn"
   ]
  },
  {
   "cell_type": "code",
   "execution_count": 3,
   "id": "701f08cf",
   "metadata": {},
   "outputs": [
    {
     "data": {
      "text/plain": [
       "-1.6705511557229318"
      ]
     },
     "execution_count": 3,
     "metadata": {},
     "output_type": "execute_result"
    }
   ],
   "source": [
    "randn()"
   ]
  },
  {
   "cell_type": "code",
   "execution_count": 12,
   "id": "7cfae248",
   "metadata": {},
   "outputs": [
    {
     "name": "stdout",
     "output_type": "stream",
     "text": [
      "1.406988575214542\n",
      "X is greater than 1\n"
     ]
    }
   ],
   "source": [
    "#--- -2 --- -1 --- 0 --- 1 --- 2\n",
    "answer = None \n",
    "x = randn()\n",
    "if x > 1:\n",
    "    answer = 'X is greater than 1'\n",
    "print(x)\n",
    "print(answer)"
   ]
  },
  {
   "cell_type": "code",
   "execution_count": 15,
   "id": "fb838933",
   "metadata": {},
   "outputs": [
    {
     "name": "stdout",
     "output_type": "stream",
     "text": [
      "0.5199878128463821\n",
      "X is less than 1\n"
     ]
    }
   ],
   "source": [
    "#--- -2 --- -1 --- 0 --- 1 --- 2\n",
    "answer = None \n",
    "x = randn()\n",
    "if x > 1:\n",
    "    answer = 'X is greater than 1'\n",
    "else:\n",
    "    answer = 'X is less than 1'\n",
    "print(x)\n",
    "print(answer)"
   ]
  },
  {
   "cell_type": "code",
   "execution_count": 18,
   "id": "1ceae6fc",
   "metadata": {},
   "outputs": [
    {
     "name": "stdout",
     "output_type": "stream",
     "text": [
      "-0.19030525681531993\n",
      "X is less than -1\n"
     ]
    }
   ],
   "source": [
    "#--- -2 --- -1 --- 0 --- 1 --- 2\n",
    "#Nested statements \n",
    "\n",
    "answer = None \n",
    "x = randn()\n",
    "if x > 1:\n",
    "    answer = 'X is greater than 1'\n",
    "else:\n",
    "    if x <= -1:\n",
    "        answer = 'X is between 1 and -1'\n",
    "    else:\n",
    "        answer = 'X is less than -1'\n",
    "print(x)\n",
    "print(answer)"
   ]
  },
  {
   "cell_type": "code",
   "execution_count": 46,
   "id": "967a7ffb",
   "metadata": {},
   "outputs": [
    {
     "name": "stdout",
     "output_type": "stream",
     "text": [
      "0.011813901629935952\n",
      "X is less than -1\n"
     ]
    }
   ],
   "source": [
    "#--- -2 --- -1 --- 0 --- 1 --- 2\n",
    "#chained statements \n",
    "\n",
    "answer = None \n",
    "x = randn()\n",
    "if x > 1:\n",
    "    answer = 'X is greater than 1'\n",
    "elif x <= -1:\n",
    "    answer = 'X is between 1 and -1'\n",
    "else:\n",
    "    answer = 'X is less than -1'\n",
    "print(x)\n",
    "print(answer)"
   ]
  }
 ],
 "metadata": {
  "kernelspec": {
   "display_name": "Python 3 (ipykernel)",
   "language": "python",
   "name": "python3"
  },
  "language_info": {
   "codemirror_mode": {
    "name": "ipython",
    "version": 3
   },
   "file_extension": ".py",
   "mimetype": "text/x-python",
   "name": "python",
   "nbconvert_exporter": "python",
   "pygments_lexer": "ipython3",
   "version": "3.10.9"
  }
 },
 "nbformat": 4,
 "nbformat_minor": 5
}

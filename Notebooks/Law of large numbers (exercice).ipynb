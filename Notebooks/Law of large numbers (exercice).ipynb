{
 "cells": [
  {
   "cell_type": "code",
   "execution_count": 99,
   "id": "917993c9",
   "metadata": {},
   "outputs": [
    {
     "name": "stdout",
     "output_type": "stream",
     "text": [
      "0.6718571428571428\n"
     ]
    }
   ],
   "source": [
    "import numpy as np\n",
    "from numpy.random import randn\n",
    "\n",
    "N = 7000\n",
    "counter = 0\n",
    "for i in randn(N):\n",
    "    if (i > -1 and i < 1):\n",
    "        counter = counter + 1\n",
    "answer = counter / N\n",
    "print (answer)"
   ]
  }
 ],
 "metadata": {
  "kernelspec": {
   "display_name": "Python 3 (ipykernel)",
   "language": "python",
   "name": "python3"
  },
  "language_info": {
   "codemirror_mode": {
    "name": "ipython",
    "version": 3
   },
   "file_extension": ".py",
   "mimetype": "text/x-python",
   "name": "python",
   "nbconvert_exporter": "python",
   "pygments_lexer": "ipython3",
   "version": "3.10.9"
  }
 },
 "nbformat": 4,
 "nbformat_minor": 5
}

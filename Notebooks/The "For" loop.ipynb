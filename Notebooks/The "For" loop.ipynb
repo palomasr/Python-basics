{
 "cells": [
  {
   "cell_type": "code",
   "execution_count": 3,
   "id": "fa38b7e9",
   "metadata": {},
   "outputs": [
    {
     "name": "stdout",
     "output_type": "stream",
     "text": [
      "Hey 0\n",
      "Hey 1\n",
      "Hey 2\n",
      "Hey 3\n",
      "Hey 4\n"
     ]
    }
   ],
   "source": [
    "for i in range(5):\n",
    "    print('Hey', i)"
   ]
  },
  {
   "cell_type": "code",
   "execution_count": 2,
   "id": "445395e0",
   "metadata": {},
   "outputs": [
    {
     "data": {
      "text/plain": [
       "[0, 1, 2, 3, 4]"
      ]
     },
     "execution_count": 2,
     "metadata": {},
     "output_type": "execute_result"
    }
   ],
   "source": [
    "#range is similar to delcaring a list, but with range it will follow the order until it gets on the number before the one you put on\n",
    "\n",
    "list(range(5))"
   ]
  },
  {
   "cell_type": "code",
   "execution_count": 3,
   "id": "a135ef15",
   "metadata": {},
   "outputs": [
    {
     "name": "stdout",
     "output_type": "stream",
     "text": [
      "Look thats number:  0\n",
      "Look thats number:  1\n",
      "Look thats number:  2\n",
      "Look thats number:  3\n",
      "Look thats number:  4\n",
      "Look thats number:  5\n",
      "Look thats number:  6\n",
      "Look thats number:  7\n"
     ]
    }
   ],
   "source": [
    "for i in range(8):\n",
    "    print('Look thats number: ', i)"
   ]
  },
  {
   "cell_type": "code",
   "execution_count": 1,
   "id": "5ac571eb",
   "metadata": {},
   "outputs": [],
   "source": [
    "#another way\n",
    "\n",
    "mylist = [100, 200, 300, 400]"
   ]
  },
  {
   "cell_type": "code",
   "execution_count": 3,
   "id": "68a7225f",
   "metadata": {},
   "outputs": [
    {
     "data": {
      "text/plain": [
       "[100, 200, 300, 400]"
      ]
     },
     "execution_count": 3,
     "metadata": {},
     "output_type": "execute_result"
    }
   ],
   "source": [
    "mylist"
   ]
  },
  {
   "cell_type": "code",
   "execution_count": 3,
   "id": "9ce7d62f",
   "metadata": {},
   "outputs": [
    {
     "name": "stdout",
     "output_type": "stream",
     "text": [
      "This number times 2 is equal to:  200\n",
      "This number times 2 is equal to:  400\n",
      "This number times 2 is equal to:  600\n",
      "This number times 2 is equal to:  800\n"
     ]
    }
   ],
   "source": [
    "for j in mylist:\n",
    "    j = j * 2\n",
    "    print('This number times 2 is equal to: ', j)"
   ]
  },
  {
   "cell_type": "code",
   "execution_count": null,
   "id": "3af2ce6d",
   "metadata": {},
   "outputs": [],
   "source": []
  }
 ],
 "metadata": {
  "kernelspec": {
   "display_name": "Python 3 (ipykernel)",
   "language": "python",
   "name": "python3"
  },
  "language_info": {
   "codemirror_mode": {
    "name": "ipython",
    "version": 3
   },
   "file_extension": ".py",
   "mimetype": "text/x-python",
   "name": "python",
   "nbconvert_exporter": "python",
   "pygments_lexer": "ipython3",
   "version": "3.10.9"
  }
 },
 "nbformat": 4,
 "nbformat_minor": 5
}

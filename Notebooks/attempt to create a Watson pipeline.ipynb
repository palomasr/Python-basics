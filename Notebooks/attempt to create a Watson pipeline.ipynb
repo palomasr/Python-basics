{
 "cells": [
  {
   "cell_type": "code",
   "execution_count": 1,
   "id": "ac5e258f",
   "metadata": {},
   "outputs": [],
   "source": [
    "import os\n",
    "import pandas as pd\n",
    "import pickle"
   ]
  },
  {
   "cell_type": "code",
   "execution_count": 2,
   "id": "a501768b",
   "metadata": {},
   "outputs": [],
   "source": [
    "# Leitura e manipulação dos dados\n",
    "df = pd.read_csv('/Users/palomaribeiro/Documents/bank-marketing-data.csv')\n",
    "df['duration_double'] = df['duration'] * 2\n",
    "\n",
    "# Realizar alguma análise ou transformação nos dados\n",
    "df['duration'] = df['age'] + df['duration_double']\n",
    "\n",
    "# Salvar o resultado como um arquivo pickle\n",
    "output_file = '/Users/palomaribeiro/Documents/bank-marketing-data.pkl'\n",
    "with open(output_file, 'wb') as f:\n",
    "    pickle.dump(df, f)"
   ]
  },
  {
   "cell_type": "code",
   "execution_count": null,
   "id": "d6247fdc",
   "metadata": {},
   "outputs": [],
   "source": [
    "import pandas as pd\n",
    "import pickle\n",
    "\n",
    "# Carregar o arquivo pickle gerado pelo notebook anterior\n",
    "input_file = 'caminho/do/output.pkl'\n",
    "with open(input_file, 'rb') as f:\n",
    "    df = pickle.load(f)\n",
    "\n",
    "# Utilizar o DataFrame carregado para realizar outras operações\n",
    "# ...\n",
    "\n",
    "# Continuar o código do próximo notebook\n"
   ]
  }
 ],
 "metadata": {
  "kernelspec": {
   "display_name": "Python 3 (ipykernel)",
   "language": "python",
   "name": "python3"
  },
  "language_info": {
   "codemirror_mode": {
    "name": "ipython",
    "version": 3
   },
   "file_extension": ".py",
   "mimetype": "text/x-python",
   "name": "python",
   "nbconvert_exporter": "python",
   "pygments_lexer": "ipython3",
   "version": "3.10.9"
  }
 },
 "nbformat": 4,
 "nbformat_minor": 5
}
